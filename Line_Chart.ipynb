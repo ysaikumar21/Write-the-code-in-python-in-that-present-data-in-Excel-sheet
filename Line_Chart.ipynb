{
  "nbformat": 4,
  "nbformat_minor": 0,
  "metadata": {
    "colab": {
      "provenance": []
    },
    "kernelspec": {
      "name": "python3",
      "display_name": "Python 3"
    },
    "language_info": {
      "name": "python"
    }
  },
  "cells": [
    {
      "cell_type": "markdown",
      "source": [
        "**LineChart :**\n",
        "\n",
        "**Using Python Librarys and funactionalities to create a new excel file and and workbook in the workbook sheets are present in this  sheet we enter the data and visulazation of LineChart representation in 2D and the user give an Input in Python code that data present in Excel this is a operation of this program**"
      ],
      "metadata": {
        "id": "Qtexz6EUo_s-"
      }
    },
    {
      "cell_type": "code",
      "source": [
        "from datetime import date\n",
        "from openpyxl import Workbook\n",
        "from openpyxl.chart import LineChart,Reference\n",
        "from openpyxl.chart.axis import DateAxis\n",
        "wb=Workbook()\n",
        "ws=wb.active\n",
        "rows=[\n",
        "    ['date','Batch1','Batch2','Batch3'],\n",
        "    [date(2015,9,1),10,30,25],\n",
        "    [date(2015,9,2),20,25,30],\n",
        "    [date(2015,9,3),30,30,45],\n",
        "    [date(2015,9,4),40,25,40],\n",
        "    [date(2015,9,5),55,35,40],\n",
        "    [date(2015,9,6),60,40,35],\n",
        "]\n",
        "for row in rows:\n",
        "  ws.append(row)\n",
        "\n",
        "c1=LineChart()\n",
        "c1.title=\"Line Charts\"\n",
        "c1.legend=None\n",
        "c1.style=15\n",
        "c1.y_axis.title='Size'\n",
        "c1.x_axis.title='Test number'\n",
        "data=Reference(ws,min_col=2,min_row=1,max_col=4,max_row=7)\n",
        "c1.add_data(data,titles_from_data=True)\n",
        "ws.add_chart(c1,\"A10\")\n",
        "wb.save(\"Line_Chart.xlsx\")"
      ],
      "metadata": {
        "id": "ptx4-hKjY_SK"
      },
      "execution_count": 10,
      "outputs": []
    },
    {
      "cell_type": "code",
      "source": [],
      "metadata": {
        "id": "UTn11GdDbGWO"
      },
      "execution_count": null,
      "outputs": []
    }
  ]
}